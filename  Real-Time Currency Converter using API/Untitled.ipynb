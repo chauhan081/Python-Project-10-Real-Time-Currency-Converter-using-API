{
 "cells": [
  {
   "cell_type": "code",
   "execution_count": 8,
   "id": "a4242c25-975d-46dc-801b-be90392c2766",
   "metadata": {},
   "outputs": [
    {
     "name": "stdout",
     "output_type": "stream",
     "text": [
      "💱 10 USD = 882.46 INR\n"
     ]
    }
   ],
   "source": [
    "import requests\n",
    "\n",
    "def convert_currency(from_currency, to_currency, amount):\n",
    "    url = f\"https://api.frankfurter.app/latest\"\n",
    "    params = {\n",
    "        \"amount\": amount,\n",
    "        \"from\": from_currency.upper(),\n",
    "        \"to\": to_currency.upper()\n",
    "    }\n",
    "\n",
    "    response = requests.get(url, params=params)\n",
    "\n",
    "    if response.status_code == 200:\n",
    "        data = response.json()\n",
    "        converted = data[\"rates\"][to_currency.upper()]\n",
    "        print(f\"💱 {amount} {from_currency.upper()} = {converted:.2f} {to_currency.upper()}\")\n",
    "    else:\n",
    "        print(\"Error fetching exchange rates.\")\n",
    "\n",
    "# Example usage\n",
    "convert_currency(\"usd\", \"inr\", 10)\n"
   ]
  },
  {
   "cell_type": "code",
   "execution_count": null,
   "id": "cecca50b-85f9-4ac0-9323-3a65ae1066fe",
   "metadata": {},
   "outputs": [],
   "source": []
  }
 ],
 "metadata": {
  "kernelspec": {
   "display_name": "Python 3 (ipykernel)",
   "language": "python",
   "name": "python3"
  },
  "language_info": {
   "codemirror_mode": {
    "name": "ipython",
    "version": 3
   },
   "file_extension": ".py",
   "mimetype": "text/x-python",
   "name": "python",
   "nbconvert_exporter": "python",
   "pygments_lexer": "ipython3",
   "version": "3.13.5"
  }
 },
 "nbformat": 4,
 "nbformat_minor": 5
}
